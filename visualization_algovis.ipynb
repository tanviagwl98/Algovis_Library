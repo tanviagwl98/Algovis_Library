{
 "cells": [
  {
   "cell_type": "code",
   "execution_count": 1,
   "metadata": {},
   "outputs": [
    {
     "name": "stderr",
     "output_type": "stream",
     "text": [
      "Matplotlib is building the font cache; this may take a moment.\n"
     ]
    }
   ],
   "source": [
    "from algovis import sorting"
   ]
  },
  {
   "cell_type": "code",
   "execution_count": 2,
   "metadata": {},
   "outputs": [],
   "source": [
    "import random"
   ]
  },
  {
   "cell_type": "code",
   "execution_count": 3,
   "metadata": {},
   "outputs": [],
   "source": [
    "lst = [i + 1 for i in range(100)]\n",
    "random.shuffle(lst)"
   ]
  },
  {
   "cell_type": "code",
   "execution_count": 5,
   "metadata": {},
   "outputs": [],
   "source": [
    "obj = sorting.BubbleSort(lst)"
   ]
  },
  {
   "cell_type": "code",
   "execution_count": 6,
   "metadata": {},
   "outputs": [
    {
     "data": {
      "image/png": "[encoded data removed]",
      "text/plain": [
       "<Figure size 936x468 with 1 Axes>"
      ]
     },
     "metadata": {},
     "output_type": "display_data"
    }
   ],
   "source": [
    "obj.visualize(interval = 100)"
   ]
  },
  {
   "cell_type": "code",
   "execution_count": 10,
   "metadata": {},
   "outputs": [
    {
     "data": {
      "text/html": [
       "<pre style=\"white-space:pre;overflow-x:auto;line-height:normal;font-family:Menlo,'DejaVu Sans Mono',consolas,'Courier New',monospace\"><span style=\"font-style: italic\">                          Quick Sort steps                           </span>\n",
       "┏━━━━━━━━━━━┳━━━━━━━┳━━━━━━━━━━━━━━━━━━━━━━━━┳━━━━━━━━━━━━━━━━━━━━━━┓\n",
       "┃<span style=\"font-weight: bold\"> Iteration </span>┃<span style=\"font-weight: bold\"> Pivot </span>┃<span style=\"font-weight: bold\"> Array in consideration </span>┃<span style=\"font-weight: bold\">        Array         </span>┃\n",
       "┡━━━━━━━━━━━╇━━━━━━━╇━━━━━━━━━━━━━━━━━━━━━━━━╇━━━━━━━━━━━━━━━━━━━━━━┩\n",
       "│<span style=\"color: #008080\">     0     </span>│<span style=\"color: #008080\">       </span>│<span style=\"color: #800080\">  1 2 3 4 5 6 7 8 9 10  </span>│<span style=\"color: #800080\"> 1 2 3 4 5 6 7 8 9 10 </span>│\n",
       "│<span style=\"color: #008080\">     1     </span>│<span style=\"color: #008080\">   8   </span>│<span style=\"color: #800080\">  10 9 8 4 5 6 7 1 2 3  </span>│<span style=\"color: #800080\"> 10 9 8 4 5 6 7 1 2 3 </span>│\n",
       "│<span style=\"color: #008080\">     2     </span>│<span style=\"color: #008080\">  10   </span>│<span style=\"color: #800080\">          10 9          </span>│<span style=\"color: #800080\"> 10 9 8 4 5 6 7 1 2 3 </span>│\n",
       "│<span style=\"color: #008080\">     3     </span>│<span style=\"color: #008080\">   4   </span>│<span style=\"color: #800080\">     7 5 6 4 1 2 3      </span>│<span style=\"color: #800080\"> 10 9 8 7 5 6 4 1 2 3 </span>│\n",
       "│<span style=\"color: #008080\">     4     </span>│<span style=\"color: #008080\">   5   </span>│<span style=\"color: #800080\">         6 7 5          </span>│<span style=\"color: #800080\"> 10 9 8 6 7 5 4 1 2 3 </span>│\n",
       "│<span style=\"color: #008080\">     5     </span>│<span style=\"color: #008080\">   6   </span>│<span style=\"color: #800080\">          7 6           </span>│<span style=\"color: #800080\"> 10 9 8 7 6 5 4 1 2 3 </span>│\n",
       "│<span style=\"color: #008080\">     6     </span>│<span style=\"color: #008080\">   2   </span>│<span style=\"color: #800080\">         3 2 1          </span>│<span style=\"color: #800080\"> 10 9 8 7 6 5 4 3 2 1 </span>│\n",
       "└───────────┴───────┴────────────────────────┴──────────────────────┘\n",
       "</pre>\n"
      ],
      "text/plain": [
       "<rich.jupyter.JupyterRenderable at 0x20a8c698248>"
      ]
     },
     "metadata": {},
     "output_type": "display_data"
    },
    {
     "data": {
      "text/plain": [
       "'10 9 8 7 6 5 4 3 2 1'"
      ]
     },
     "execution_count": 10,
     "metadata": {},
     "output_type": "execute_result"
    }
   ],
   "source": [
    "quick_obj = sorting.QuickSort([i + 1 for i in range(10)])\n",
    "quick_obj.sort(pivot = \"random\", reverse = True, steps = True)\n"
   ]
  },
  {
   "cell_type": "code",
   "execution_count": 11,
   "metadata": {},
   "outputs": [
    {
     "data": {
      "text/html": [
       "<pre style=\"white-space:pre;overflow-x:auto;line-height:normal;font-family:Menlo,'DejaVu Sans Mono',consolas,'Courier New',monospace\"><span style=\"font-style: italic\">          Quick Sort Evaluation           </span>\n",
       "┏━━━━━━━━━━━━━━┳━━━━━━━━━━━┳━━━━━━━━━━━━━┓\n",
       "┃<span style=\"font-weight: bold\">    Metric    </span>┃<span style=\"font-weight: bold\"> Time (ns) </span>┃<span style=\"font-weight: bold\"> Time (sec)  </span>┃\n",
       "┡━━━━━━━━━━━━━━╇━━━━━━━━━━━╇━━━━━━━━━━━━━┩\n",
       "│<span style=\"color: #008080\"> Minimum Time </span>│<span style=\"color: #800080\">   78500   </span>│<span style=\"color: #800080\"> 0.000078500 </span>│\n",
       "│<span style=\"color: #008080\"> Maximum Time </span>│<span style=\"color: #800080\">   78500   </span>│<span style=\"color: #800080\"> 0.000078500 </span>│\n",
       "│<span style=\"color: #008080\"> Average Time </span>│<span style=\"color: #800080\">   78500   </span>│<span style=\"color: #800080\"> 0.000078500 </span>│\n",
       "└──────────────┴───────────┴─────────────┘\n",
       "</pre>\n"
      ],
      "text/plain": [
       "<rich.jupyter.JupyterRenderable at 0x20a8d775a48>"
      ]
     },
     "metadata": {},
     "output_type": "display_data"
    },
    {
     "data": {
      "image/png": "[encoded data removed]",
      "text/plain": [
       "<Figure size 936x468 with 1 Axes>"
      ]
     },
     "metadata": {},
     "output_type": "display_data"
    }
   ],
   "source": [
    "quick_obj.evaluate(pivot = \"last\", reverse = True)\n",
    "quick_obj.visualize(pivot = \"middle\", reverse = True )"
   ]
  },
  {
   "cell_type": "code",
   "execution_count": null,
   "metadata": {},
   "outputs": [],
   "source": []
  }
 ],
 "metadata": {
  "kernelspec": {
   "display_name": "Python 3",
   "language": "python",
   "name": "python3"
  },
  "language_info": {
   "codemirror_mode": {
    "name": "ipython",
    "version": 3
   },
   "file_extension": ".py",
   "mimetype": "text/x-python",
   "name": "python",
   "nbconvert_exporter": "python",
   "pygments_lexer": "ipython3",
   "version": "3.7.6"
  }
 },
 "nbformat": 4,
 "nbformat_minor": 4
}
